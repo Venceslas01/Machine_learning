{
  "cells": [
    {
      "cell_type": "code",
      "execution_count": null,
      "id": "956e7212",
      "metadata": {
        "scrolled": true,
        "colab": {
          "base_uri": "https://localhost:8080/",
          "height": 423
        },
        "id": "956e7212",
        "outputId": "cc054a21-f9e8-422c-eac2-b67701e4d6ca"
      },
      "outputs": [
        {
          "output_type": "execute_result",
          "data": {
            "text/plain": [
              "            Lat       Lon  Day  Month  Year     Chla     Chlb     19Hf  \\\n",
              "0      48.67283  -8.44898    9     17  1997  0.33206  0.00000  0.11931   \n",
              "1      48.67283  -8.44898    9     17  1997  0.35777  0.00000  0.15785   \n",
              "2      48.67283  -8.44898    9     17  1997  0.45538  0.00000  0.15681   \n",
              "3      48.67283  -8.44898    9     17  1997  0.77354  0.00000  0.41115   \n",
              "4      47.98378 -13.20512    9     18  1997  0.32851  0.00864  0.13750   \n",
              "...         ...       ...  ...    ...   ...      ...      ...      ...   \n",
              "11159  43.36700   7.89900   11      8  2005  0.33740  0.07460  0.06870   \n",
              "11160  43.37400   7.88300   11     13  2009  0.24470  0.03180  0.07090   \n",
              "11161  43.37600   7.88600   11     15  2009  0.23990  0.03940  0.06850   \n",
              "11162  43.36700   7.90600   12     12  2013  0.42080  0.08600  0.10220   \n",
              "11163  43.36500   7.90100   12     13  2013  0.69400  0.08180  0.15920   \n",
              "\n",
              "          19Bf     Fuco    Perid     Allo      Zea  \n",
              "0      0.03506  0.02940  0.02220  0.00000  0.01313  \n",
              "1      0.03942  0.02810  0.01777  0.00000  0.01722  \n",
              "2      0.03332  0.02860  0.01427  0.00000  0.01260  \n",
              "3      0.08445  0.05114  0.02363  0.00000  0.00937  \n",
              "4      0.03743  0.01040  0.00520  0.00801  0.06553  \n",
              "...        ...      ...      ...      ...      ...  \n",
              "11159  0.02430  0.01320  0.00760  0.00470  0.07540  \n",
              "11160  0.02410  0.01140  0.00620  0.00260  0.05210  \n",
              "11161  0.02170  0.01070  0.00600  0.00180  0.04810  \n",
              "11162  0.05310  0.02980  0.00370  0.01000  0.04090  \n",
              "11163  0.07400  0.11650  0.00640  0.00870  0.04640  \n",
              "\n",
              "[11164 rows x 13 columns]"
            ],
            "text/html": [
              "\n",
              "  <div id=\"df-4616a19b-5459-43d1-b53e-f3b839046a4b\">\n",
              "    <div class=\"colab-df-container\">\n",
              "      <div>\n",
              "<style scoped>\n",
              "    .dataframe tbody tr th:only-of-type {\n",
              "        vertical-align: middle;\n",
              "    }\n",
              "\n",
              "    .dataframe tbody tr th {\n",
              "        vertical-align: top;\n",
              "    }\n",
              "\n",
              "    .dataframe thead th {\n",
              "        text-align: right;\n",
              "    }\n",
              "</style>\n",
              "<table border=\"1\" class=\"dataframe\">\n",
              "  <thead>\n",
              "    <tr style=\"text-align: right;\">\n",
              "      <th></th>\n",
              "      <th>Lat</th>\n",
              "      <th>Lon</th>\n",
              "      <th>Day</th>\n",
              "      <th>Month</th>\n",
              "      <th>Year</th>\n",
              "      <th>Chla</th>\n",
              "      <th>Chlb</th>\n",
              "      <th>19Hf</th>\n",
              "      <th>19Bf</th>\n",
              "      <th>Fuco</th>\n",
              "      <th>Perid</th>\n",
              "      <th>Allo</th>\n",
              "      <th>Zea</th>\n",
              "    </tr>\n",
              "  </thead>\n",
              "  <tbody>\n",
              "    <tr>\n",
              "      <th>0</th>\n",
              "      <td>48.67283</td>\n",
              "      <td>-8.44898</td>\n",
              "      <td>9</td>\n",
              "      <td>17</td>\n",
              "      <td>1997</td>\n",
              "      <td>0.33206</td>\n",
              "      <td>0.00000</td>\n",
              "      <td>0.11931</td>\n",
              "      <td>0.03506</td>\n",
              "      <td>0.02940</td>\n",
              "      <td>0.02220</td>\n",
              "      <td>0.00000</td>\n",
              "      <td>0.01313</td>\n",
              "    </tr>\n",
              "    <tr>\n",
              "      <th>1</th>\n",
              "      <td>48.67283</td>\n",
              "      <td>-8.44898</td>\n",
              "      <td>9</td>\n",
              "      <td>17</td>\n",
              "      <td>1997</td>\n",
              "      <td>0.35777</td>\n",
              "      <td>0.00000</td>\n",
              "      <td>0.15785</td>\n",
              "      <td>0.03942</td>\n",
              "      <td>0.02810</td>\n",
              "      <td>0.01777</td>\n",
              "      <td>0.00000</td>\n",
              "      <td>0.01722</td>\n",
              "    </tr>\n",
              "    <tr>\n",
              "      <th>2</th>\n",
              "      <td>48.67283</td>\n",
              "      <td>-8.44898</td>\n",
              "      <td>9</td>\n",
              "      <td>17</td>\n",
              "      <td>1997</td>\n",
              "      <td>0.45538</td>\n",
              "      <td>0.00000</td>\n",
              "      <td>0.15681</td>\n",
              "      <td>0.03332</td>\n",
              "      <td>0.02860</td>\n",
              "      <td>0.01427</td>\n",
              "      <td>0.00000</td>\n",
              "      <td>0.01260</td>\n",
              "    </tr>\n",
              "    <tr>\n",
              "      <th>3</th>\n",
              "      <td>48.67283</td>\n",
              "      <td>-8.44898</td>\n",
              "      <td>9</td>\n",
              "      <td>17</td>\n",
              "      <td>1997</td>\n",
              "      <td>0.77354</td>\n",
              "      <td>0.00000</td>\n",
              "      <td>0.41115</td>\n",
              "      <td>0.08445</td>\n",
              "      <td>0.05114</td>\n",
              "      <td>0.02363</td>\n",
              "      <td>0.00000</td>\n",
              "      <td>0.00937</td>\n",
              "    </tr>\n",
              "    <tr>\n",
              "      <th>4</th>\n",
              "      <td>47.98378</td>\n",
              "      <td>-13.20512</td>\n",
              "      <td>9</td>\n",
              "      <td>18</td>\n",
              "      <td>1997</td>\n",
              "      <td>0.32851</td>\n",
              "      <td>0.00864</td>\n",
              "      <td>0.13750</td>\n",
              "      <td>0.03743</td>\n",
              "      <td>0.01040</td>\n",
              "      <td>0.00520</td>\n",
              "      <td>0.00801</td>\n",
              "      <td>0.06553</td>\n",
              "    </tr>\n",
              "    <tr>\n",
              "      <th>...</th>\n",
              "      <td>...</td>\n",
              "      <td>...</td>\n",
              "      <td>...</td>\n",
              "      <td>...</td>\n",
              "      <td>...</td>\n",
              "      <td>...</td>\n",
              "      <td>...</td>\n",
              "      <td>...</td>\n",
              "      <td>...</td>\n",
              "      <td>...</td>\n",
              "      <td>...</td>\n",
              "      <td>...</td>\n",
              "      <td>...</td>\n",
              "    </tr>\n",
              "    <tr>\n",
              "      <th>11159</th>\n",
              "      <td>43.36700</td>\n",
              "      <td>7.89900</td>\n",
              "      <td>11</td>\n",
              "      <td>8</td>\n",
              "      <td>2005</td>\n",
              "      <td>0.33740</td>\n",
              "      <td>0.07460</td>\n",
              "      <td>0.06870</td>\n",
              "      <td>0.02430</td>\n",
              "      <td>0.01320</td>\n",
              "      <td>0.00760</td>\n",
              "      <td>0.00470</td>\n",
              "      <td>0.07540</td>\n",
              "    </tr>\n",
              "    <tr>\n",
              "      <th>11160</th>\n",
              "      <td>43.37400</td>\n",
              "      <td>7.88300</td>\n",
              "      <td>11</td>\n",
              "      <td>13</td>\n",
              "      <td>2009</td>\n",
              "      <td>0.24470</td>\n",
              "      <td>0.03180</td>\n",
              "      <td>0.07090</td>\n",
              "      <td>0.02410</td>\n",
              "      <td>0.01140</td>\n",
              "      <td>0.00620</td>\n",
              "      <td>0.00260</td>\n",
              "      <td>0.05210</td>\n",
              "    </tr>\n",
              "    <tr>\n",
              "      <th>11161</th>\n",
              "      <td>43.37600</td>\n",
              "      <td>7.88600</td>\n",
              "      <td>11</td>\n",
              "      <td>15</td>\n",
              "      <td>2009</td>\n",
              "      <td>0.23990</td>\n",
              "      <td>0.03940</td>\n",
              "      <td>0.06850</td>\n",
              "      <td>0.02170</td>\n",
              "      <td>0.01070</td>\n",
              "      <td>0.00600</td>\n",
              "      <td>0.00180</td>\n",
              "      <td>0.04810</td>\n",
              "    </tr>\n",
              "    <tr>\n",
              "      <th>11162</th>\n",
              "      <td>43.36700</td>\n",
              "      <td>7.90600</td>\n",
              "      <td>12</td>\n",
              "      <td>12</td>\n",
              "      <td>2013</td>\n",
              "      <td>0.42080</td>\n",
              "      <td>0.08600</td>\n",
              "      <td>0.10220</td>\n",
              "      <td>0.05310</td>\n",
              "      <td>0.02980</td>\n",
              "      <td>0.00370</td>\n",
              "      <td>0.01000</td>\n",
              "      <td>0.04090</td>\n",
              "    </tr>\n",
              "    <tr>\n",
              "      <th>11163</th>\n",
              "      <td>43.36500</td>\n",
              "      <td>7.90100</td>\n",
              "      <td>12</td>\n",
              "      <td>13</td>\n",
              "      <td>2013</td>\n",
              "      <td>0.69400</td>\n",
              "      <td>0.08180</td>\n",
              "      <td>0.15920</td>\n",
              "      <td>0.07400</td>\n",
              "      <td>0.11650</td>\n",
              "      <td>0.00640</td>\n",
              "      <td>0.00870</td>\n",
              "      <td>0.04640</td>\n",
              "    </tr>\n",
              "  </tbody>\n",
              "</table>\n",
              "<p>11164 rows × 13 columns</p>\n",
              "</div>\n",
              "      <button class=\"colab-df-convert\" onclick=\"convertToInteractive('df-4616a19b-5459-43d1-b53e-f3b839046a4b')\"\n",
              "              title=\"Convert this dataframe to an interactive table.\"\n",
              "              style=\"display:none;\">\n",
              "        \n",
              "  <svg xmlns=\"http://www.w3.org/2000/svg\" height=\"24px\"viewBox=\"0 0 24 24\"\n",
              "       width=\"24px\">\n",
              "    <path d=\"M0 0h24v24H0V0z\" fill=\"none\"/>\n",
              "    <path d=\"M18.56 5.44l.94 2.06.94-2.06 2.06-.94-2.06-.94-.94-2.06-.94 2.06-2.06.94zm-11 1L8.5 8.5l.94-2.06 2.06-.94-2.06-.94L8.5 2.5l-.94 2.06-2.06.94zm10 10l.94 2.06.94-2.06 2.06-.94-2.06-.94-.94-2.06-.94 2.06-2.06.94z\"/><path d=\"M17.41 7.96l-1.37-1.37c-.4-.4-.92-.59-1.43-.59-.52 0-1.04.2-1.43.59L10.3 9.45l-7.72 7.72c-.78.78-.78 2.05 0 2.83L4 21.41c.39.39.9.59 1.41.59.51 0 1.02-.2 1.41-.59l7.78-7.78 2.81-2.81c.8-.78.8-2.07 0-2.86zM5.41 20L4 18.59l7.72-7.72 1.47 1.35L5.41 20z\"/>\n",
              "  </svg>\n",
              "      </button>\n",
              "      \n",
              "  <style>\n",
              "    .colab-df-container {\n",
              "      display:flex;\n",
              "      flex-wrap:wrap;\n",
              "      gap: 12px;\n",
              "    }\n",
              "\n",
              "    .colab-df-convert {\n",
              "      background-color: #E8F0FE;\n",
              "      border: none;\n",
              "      border-radius: 50%;\n",
              "      cursor: pointer;\n",
              "      display: none;\n",
              "      fill: #1967D2;\n",
              "      height: 32px;\n",
              "      padding: 0 0 0 0;\n",
              "      width: 32px;\n",
              "    }\n",
              "\n",
              "    .colab-df-convert:hover {\n",
              "      background-color: #E2EBFA;\n",
              "      box-shadow: 0px 1px 2px rgba(60, 64, 67, 0.3), 0px 1px 3px 1px rgba(60, 64, 67, 0.15);\n",
              "      fill: #174EA6;\n",
              "    }\n",
              "\n",
              "    [theme=dark] .colab-df-convert {\n",
              "      background-color: #3B4455;\n",
              "      fill: #D2E3FC;\n",
              "    }\n",
              "\n",
              "    [theme=dark] .colab-df-convert:hover {\n",
              "      background-color: #434B5C;\n",
              "      box-shadow: 0px 1px 3px 1px rgba(0, 0, 0, 0.15);\n",
              "      filter: drop-shadow(0px 1px 2px rgba(0, 0, 0, 0.3));\n",
              "      fill: #FFFFFF;\n",
              "    }\n",
              "  </style>\n",
              "\n",
              "      <script>\n",
              "        const buttonEl =\n",
              "          document.querySelector('#df-4616a19b-5459-43d1-b53e-f3b839046a4b button.colab-df-convert');\n",
              "        buttonEl.style.display =\n",
              "          google.colab.kernel.accessAllowed ? 'block' : 'none';\n",
              "\n",
              "        async function convertToInteractive(key) {\n",
              "          const element = document.querySelector('#df-4616a19b-5459-43d1-b53e-f3b839046a4b');\n",
              "          const dataTable =\n",
              "            await google.colab.kernel.invokeFunction('convertToInteractive',\n",
              "                                                     [key], {});\n",
              "          if (!dataTable) return;\n",
              "\n",
              "          const docLinkHtml = 'Like what you see? Visit the ' +\n",
              "            '<a target=\"_blank\" href=https://colab.research.google.com/notebooks/data_table.ipynb>data table notebook</a>'\n",
              "            + ' to learn more about interactive tables.';\n",
              "          element.innerHTML = '';\n",
              "          dataTable['output_type'] = 'display_data';\n",
              "          await google.colab.output.renderOutput(dataTable, element);\n",
              "          const docLink = document.createElement('div');\n",
              "          docLink.innerHTML = docLinkHtml;\n",
              "          element.appendChild(docLink);\n",
              "        }\n",
              "      </script>\n",
              "    </div>\n",
              "  </div>\n",
              "  "
            ]
          },
          "metadata": {},
          "execution_count": 2
        }
      ],
      "source": [
        "\n",
        "\n",
        "import pandas as pd\n",
        "import numpy as np\n",
        "import seaborn as sn\n",
        "import matplotlib.pyplot as plt\n",
        "\n",
        "from numpy import arange\n",
        "from sklearn.linear_model import Ridge\n",
        "from sklearn.linear_model import RidgeCV\n",
        "from sklearn.model_selection import RepeatedKFold\n",
        "from sklearn.model_selection import train_test_split\n",
        "from sklearn.linear_model import LinearRegression\n",
        "from sklearn.metrics import r2_score\n",
        "\n",
        "df = pd.read_excel('Data_Pigment.xlsx')\n",
        "df"
      ]
    },
    {
      "cell_type": "code",
      "execution_count": null,
      "id": "84c5e29a",
      "metadata": {
        "id": "84c5e29a"
      },
      "outputs": [],
      "source": [
        "#df['Day']=df['Day'].astype('category')\n",
        "#df['Day']=df['Day'].cat.codes"
      ]
    },
    {
      "cell_type": "code",
      "execution_count": null,
      "id": "128e4078",
      "metadata": {
        "colab": {
          "base_uri": "https://localhost:8080/"
        },
        "id": "128e4078",
        "outputId": "1e6c0ff8-fd5a-463b-a39e-7566dfd861fd"
      },
      "outputs": [
        {
          "output_type": "execute_result",
          "data": {
            "text/plain": [
              "Lat      0\n",
              "Lon      0\n",
              "Day      0\n",
              "Month    0\n",
              "Year     0\n",
              "Chla     0\n",
              "Chlb     0\n",
              "19Hf     0\n",
              "19Bf     0\n",
              "Fuco     0\n",
              "Perid    0\n",
              "Allo     0\n",
              "Zea      0\n",
              "dtype: int64"
            ]
          },
          "metadata": {},
          "execution_count": 4
        }
      ],
      "source": [
        "df.isnull().sum()"
      ]
    },
    {
      "cell_type": "code",
      "execution_count": null,
      "id": "672fb3df",
      "metadata": {
        "colab": {
          "base_uri": "https://localhost:8080/",
          "height": 423
        },
        "id": "672fb3df",
        "outputId": "a795954f-6770-4a93-e517-b4c8fb88abff"
      },
      "outputs": [
        {
          "output_type": "execute_result",
          "data": {
            "text/plain": [
              "          Chlb     19Hf     19Bf     Fuco    Perid     Allo      Zea\n",
              "0      0.00000  0.11931  0.03506  0.02940  0.02220  0.00000  0.01313\n",
              "1      0.00000  0.15785  0.03942  0.02810  0.01777  0.00000  0.01722\n",
              "2      0.00000  0.15681  0.03332  0.02860  0.01427  0.00000  0.01260\n",
              "3      0.00000  0.41115  0.08445  0.05114  0.02363  0.00000  0.00937\n",
              "4      0.00864  0.13750  0.03743  0.01040  0.00520  0.00801  0.06553\n",
              "...        ...      ...      ...      ...      ...      ...      ...\n",
              "11159  0.07460  0.06870  0.02430  0.01320  0.00760  0.00470  0.07540\n",
              "11160  0.03180  0.07090  0.02410  0.01140  0.00620  0.00260  0.05210\n",
              "11161  0.03940  0.06850  0.02170  0.01070  0.00600  0.00180  0.04810\n",
              "11162  0.08600  0.10220  0.05310  0.02980  0.00370  0.01000  0.04090\n",
              "11163  0.08180  0.15920  0.07400  0.11650  0.00640  0.00870  0.04640\n",
              "\n",
              "[11164 rows x 7 columns]"
            ],
            "text/html": [
              "\n",
              "  <div id=\"df-d3df334f-5cbb-4ebd-9ff7-ba0d579cbc38\">\n",
              "    <div class=\"colab-df-container\">\n",
              "      <div>\n",
              "<style scoped>\n",
              "    .dataframe tbody tr th:only-of-type {\n",
              "        vertical-align: middle;\n",
              "    }\n",
              "\n",
              "    .dataframe tbody tr th {\n",
              "        vertical-align: top;\n",
              "    }\n",
              "\n",
              "    .dataframe thead th {\n",
              "        text-align: right;\n",
              "    }\n",
              "</style>\n",
              "<table border=\"1\" class=\"dataframe\">\n",
              "  <thead>\n",
              "    <tr style=\"text-align: right;\">\n",
              "      <th></th>\n",
              "      <th>Chlb</th>\n",
              "      <th>19Hf</th>\n",
              "      <th>19Bf</th>\n",
              "      <th>Fuco</th>\n",
              "      <th>Perid</th>\n",
              "      <th>Allo</th>\n",
              "      <th>Zea</th>\n",
              "    </tr>\n",
              "  </thead>\n",
              "  <tbody>\n",
              "    <tr>\n",
              "      <th>0</th>\n",
              "      <td>0.00000</td>\n",
              "      <td>0.11931</td>\n",
              "      <td>0.03506</td>\n",
              "      <td>0.02940</td>\n",
              "      <td>0.02220</td>\n",
              "      <td>0.00000</td>\n",
              "      <td>0.01313</td>\n",
              "    </tr>\n",
              "    <tr>\n",
              "      <th>1</th>\n",
              "      <td>0.00000</td>\n",
              "      <td>0.15785</td>\n",
              "      <td>0.03942</td>\n",
              "      <td>0.02810</td>\n",
              "      <td>0.01777</td>\n",
              "      <td>0.00000</td>\n",
              "      <td>0.01722</td>\n",
              "    </tr>\n",
              "    <tr>\n",
              "      <th>2</th>\n",
              "      <td>0.00000</td>\n",
              "      <td>0.15681</td>\n",
              "      <td>0.03332</td>\n",
              "      <td>0.02860</td>\n",
              "      <td>0.01427</td>\n",
              "      <td>0.00000</td>\n",
              "      <td>0.01260</td>\n",
              "    </tr>\n",
              "    <tr>\n",
              "      <th>3</th>\n",
              "      <td>0.00000</td>\n",
              "      <td>0.41115</td>\n",
              "      <td>0.08445</td>\n",
              "      <td>0.05114</td>\n",
              "      <td>0.02363</td>\n",
              "      <td>0.00000</td>\n",
              "      <td>0.00937</td>\n",
              "    </tr>\n",
              "    <tr>\n",
              "      <th>4</th>\n",
              "      <td>0.00864</td>\n",
              "      <td>0.13750</td>\n",
              "      <td>0.03743</td>\n",
              "      <td>0.01040</td>\n",
              "      <td>0.00520</td>\n",
              "      <td>0.00801</td>\n",
              "      <td>0.06553</td>\n",
              "    </tr>\n",
              "    <tr>\n",
              "      <th>...</th>\n",
              "      <td>...</td>\n",
              "      <td>...</td>\n",
              "      <td>...</td>\n",
              "      <td>...</td>\n",
              "      <td>...</td>\n",
              "      <td>...</td>\n",
              "      <td>...</td>\n",
              "    </tr>\n",
              "    <tr>\n",
              "      <th>11159</th>\n",
              "      <td>0.07460</td>\n",
              "      <td>0.06870</td>\n",
              "      <td>0.02430</td>\n",
              "      <td>0.01320</td>\n",
              "      <td>0.00760</td>\n",
              "      <td>0.00470</td>\n",
              "      <td>0.07540</td>\n",
              "    </tr>\n",
              "    <tr>\n",
              "      <th>11160</th>\n",
              "      <td>0.03180</td>\n",
              "      <td>0.07090</td>\n",
              "      <td>0.02410</td>\n",
              "      <td>0.01140</td>\n",
              "      <td>0.00620</td>\n",
              "      <td>0.00260</td>\n",
              "      <td>0.05210</td>\n",
              "    </tr>\n",
              "    <tr>\n",
              "      <th>11161</th>\n",
              "      <td>0.03940</td>\n",
              "      <td>0.06850</td>\n",
              "      <td>0.02170</td>\n",
              "      <td>0.01070</td>\n",
              "      <td>0.00600</td>\n",
              "      <td>0.00180</td>\n",
              "      <td>0.04810</td>\n",
              "    </tr>\n",
              "    <tr>\n",
              "      <th>11162</th>\n",
              "      <td>0.08600</td>\n",
              "      <td>0.10220</td>\n",
              "      <td>0.05310</td>\n",
              "      <td>0.02980</td>\n",
              "      <td>0.00370</td>\n",
              "      <td>0.01000</td>\n",
              "      <td>0.04090</td>\n",
              "    </tr>\n",
              "    <tr>\n",
              "      <th>11163</th>\n",
              "      <td>0.08180</td>\n",
              "      <td>0.15920</td>\n",
              "      <td>0.07400</td>\n",
              "      <td>0.11650</td>\n",
              "      <td>0.00640</td>\n",
              "      <td>0.00870</td>\n",
              "      <td>0.04640</td>\n",
              "    </tr>\n",
              "  </tbody>\n",
              "</table>\n",
              "<p>11164 rows × 7 columns</p>\n",
              "</div>\n",
              "      <button class=\"colab-df-convert\" onclick=\"convertToInteractive('df-d3df334f-5cbb-4ebd-9ff7-ba0d579cbc38')\"\n",
              "              title=\"Convert this dataframe to an interactive table.\"\n",
              "              style=\"display:none;\">\n",
              "        \n",
              "  <svg xmlns=\"http://www.w3.org/2000/svg\" height=\"24px\"viewBox=\"0 0 24 24\"\n",
              "       width=\"24px\">\n",
              "    <path d=\"M0 0h24v24H0V0z\" fill=\"none\"/>\n",
              "    <path d=\"M18.56 5.44l.94 2.06.94-2.06 2.06-.94-2.06-.94-.94-2.06-.94 2.06-2.06.94zm-11 1L8.5 8.5l.94-2.06 2.06-.94-2.06-.94L8.5 2.5l-.94 2.06-2.06.94zm10 10l.94 2.06.94-2.06 2.06-.94-2.06-.94-.94-2.06-.94 2.06-2.06.94z\"/><path d=\"M17.41 7.96l-1.37-1.37c-.4-.4-.92-.59-1.43-.59-.52 0-1.04.2-1.43.59L10.3 9.45l-7.72 7.72c-.78.78-.78 2.05 0 2.83L4 21.41c.39.39.9.59 1.41.59.51 0 1.02-.2 1.41-.59l7.78-7.78 2.81-2.81c.8-.78.8-2.07 0-2.86zM5.41 20L4 18.59l7.72-7.72 1.47 1.35L5.41 20z\"/>\n",
              "  </svg>\n",
              "      </button>\n",
              "      \n",
              "  <style>\n",
              "    .colab-df-container {\n",
              "      display:flex;\n",
              "      flex-wrap:wrap;\n",
              "      gap: 12px;\n",
              "    }\n",
              "\n",
              "    .colab-df-convert {\n",
              "      background-color: #E8F0FE;\n",
              "      border: none;\n",
              "      border-radius: 50%;\n",
              "      cursor: pointer;\n",
              "      display: none;\n",
              "      fill: #1967D2;\n",
              "      height: 32px;\n",
              "      padding: 0 0 0 0;\n",
              "      width: 32px;\n",
              "    }\n",
              "\n",
              "    .colab-df-convert:hover {\n",
              "      background-color: #E2EBFA;\n",
              "      box-shadow: 0px 1px 2px rgba(60, 64, 67, 0.3), 0px 1px 3px 1px rgba(60, 64, 67, 0.15);\n",
              "      fill: #174EA6;\n",
              "    }\n",
              "\n",
              "    [theme=dark] .colab-df-convert {\n",
              "      background-color: #3B4455;\n",
              "      fill: #D2E3FC;\n",
              "    }\n",
              "\n",
              "    [theme=dark] .colab-df-convert:hover {\n",
              "      background-color: #434B5C;\n",
              "      box-shadow: 0px 1px 3px 1px rgba(0, 0, 0, 0.15);\n",
              "      filter: drop-shadow(0px 1px 2px rgba(0, 0, 0, 0.3));\n",
              "      fill: #FFFFFF;\n",
              "    }\n",
              "  </style>\n",
              "\n",
              "      <script>\n",
              "        const buttonEl =\n",
              "          document.querySelector('#df-d3df334f-5cbb-4ebd-9ff7-ba0d579cbc38 button.colab-df-convert');\n",
              "        buttonEl.style.display =\n",
              "          google.colab.kernel.accessAllowed ? 'block' : 'none';\n",
              "\n",
              "        async function convertToInteractive(key) {\n",
              "          const element = document.querySelector('#df-d3df334f-5cbb-4ebd-9ff7-ba0d579cbc38');\n",
              "          const dataTable =\n",
              "            await google.colab.kernel.invokeFunction('convertToInteractive',\n",
              "                                                     [key], {});\n",
              "          if (!dataTable) return;\n",
              "\n",
              "          const docLinkHtml = 'Like what you see? Visit the ' +\n",
              "            '<a target=\"_blank\" href=https://colab.research.google.com/notebooks/data_table.ipynb>data table notebook</a>'\n",
              "            + ' to learn more about interactive tables.';\n",
              "          element.innerHTML = '';\n",
              "          dataTable['output_type'] = 'display_data';\n",
              "          await google.colab.output.renderOutput(dataTable, element);\n",
              "          const docLink = document.createElement('div');\n",
              "          docLink.innerHTML = docLinkHtml;\n",
              "          element.appendChild(docLink);\n",
              "        }\n",
              "      </script>\n",
              "    </div>\n",
              "  </div>\n",
              "  "
            ]
          },
          "metadata": {},
          "execution_count": 5
        }
      ],
      "source": [
        "#X=df.drop(columns='Chla')\n",
        "X=df[['Chlb','19Hf','19Bf','Fuco','Perid','Allo','Zea']]\n",
        "y=df['Chla']\n",
        "X"
      ]
    },
    {
      "cell_type": "code",
      "execution_count": null,
      "id": "ccb319cf",
      "metadata": {
        "colab": {
          "base_uri": "https://localhost:8080/"
        },
        "id": "ccb319cf",
        "outputId": "5e7cc7c4-bd6b-4172-b987-916330775da1"
      },
      "outputs": [
        {
          "output_type": "execute_result",
          "data": {
            "text/plain": [
              "9010     0.061000\n",
              "8761     0.029000\n",
              "7860     1.065000\n",
              "8713     0.191000\n",
              "9967     0.400000\n",
              "           ...   \n",
              "3991     0.058000\n",
              "2664     0.296643\n",
              "10009    0.490000\n",
              "7297     0.599899\n",
              "6141     0.022089\n",
              "Name: Chla, Length: 3350, dtype: float64"
            ]
          },
          "metadata": {},
          "execution_count": 6
        }
      ],
      "source": [
        "\n",
        "# creating train and test sets\n",
        "X_train, X_test, y_train, y_test = train_test_split(X, y, test_size=0.3, random_state=0)\n",
        "y_test"
      ]
    },
    {
      "cell_type": "code",
      "execution_count": null,
      "id": "f9968e4c",
      "metadata": {
        "colab": {
          "base_uri": "https://localhost:8080/"
        },
        "id": "f9968e4c",
        "outputId": "2beda05d-cee6-4ccb-dd70-bd6abc0d3d5e"
      },
      "outputs": [
        {
          "output_type": "stream",
          "name": "stdout",
          "text": [
            "[ 2.11511472  0.47998603 -0.03102981  0.4123735   3.01604267  2.11717266\n",
            "  1.9008807 ]\n"
          ]
        }
      ],
      "source": [
        "\n",
        "lr=LinearRegression()\n",
        "lr.fit(X_train,y_train)\n",
        "m=lr.coef_\n",
        "print(m)"
      ]
    },
    {
      "cell_type": "code",
      "execution_count": null,
      "id": "04cd2277",
      "metadata": {
        "colab": {
          "base_uri": "https://localhost:8080/"
        },
        "id": "04cd2277",
        "outputId": "6b6b9c0b-cabb-4db3-f40b-a373c80ef306"
      },
      "outputs": [
        {
          "output_type": "execute_result",
          "data": {
            "text/plain": [
              "0.30157868751498174"
            ]
          },
          "metadata": {},
          "execution_count": 8
        }
      ],
      "source": [
        "c=lr.intercept_\n",
        "c"
      ]
    },
    {
      "cell_type": "code",
      "execution_count": null,
      "id": "6b7ef486",
      "metadata": {
        "colab": {
          "base_uri": "https://localhost:8080/"
        },
        "id": "6b7ef486",
        "outputId": "f22111f0-35c0-43d1-8d6a-1e3eaab50c67"
      },
      "outputs": [
        {
          "output_type": "execute_result",
          "data": {
            "text/plain": [
              "array([0.37458194, 0.36392997, 1.32891907, ..., 0.65459051, 0.63343107,\n",
              "       0.33637656])"
            ]
          },
          "metadata": {},
          "execution_count": 9
        }
      ],
      "source": [
        "y_pred_test=lr.predict(X_test)\n",
        "y_pred_test"
      ]
    },
    {
      "cell_type": "code",
      "execution_count": null,
      "id": "c11d7b62",
      "metadata": {
        "colab": {
          "base_uri": "https://localhost:8080/",
          "height": 472
        },
        "id": "c11d7b62",
        "outputId": "f6a19e70-4062-44f8-e320-9791f55f030d"
      },
      "outputs": [
        {
          "output_type": "display_data",
          "data": {
            "text/plain": [
              "<Figure size 640x480 with 1 Axes>"
            ],
            "image/png": "[encoded data removed]"
          },
          "metadata": {}
        }
      ],
      "source": [
        "\n",
        "plt.scatter(y_test ,y_pred_test )\n",
        "plt.xlabel('actual charges')\n",
        "plt.ylabel('Predicted charges')\n",
        "plt.title('Régression linéaire')\n",
        "plt.show()"
      ]
    },
    {
      "cell_type": "code",
      "execution_count": null,
      "id": "0a7f46c7",
      "metadata": {
        "colab": {
          "base_uri": "https://localhost:8080/"
        },
        "id": "0a7f46c7",
        "outputId": "f4925a21-b721-4263-ef84-b264c3a52a59"
      },
      "outputs": [
        {
          "output_type": "execute_result",
          "data": {
            "text/plain": [
              "0.6756633250725155"
            ]
          },
          "metadata": {},
          "execution_count": 11
        }
      ],
      "source": [
        "\n",
        "r2_score(y_test,y_pred_test)"
      ]
    },
    {
      "cell_type": "code",
      "execution_count": null,
      "id": "dc4646f5",
      "metadata": {
        "id": "dc4646f5"
      },
      "outputs": [],
      "source": []
    },
    {
      "cell_type": "code",
      "execution_count": null,
      "id": "34d61a82",
      "metadata": {
        "id": "34d61a82"
      },
      "outputs": [],
      "source": [
        "X = X_train\n",
        "Y = y_train"
      ]
    },
    {
      "cell_type": "code",
      "execution_count": null,
      "id": "f99cd8ea",
      "metadata": {
        "id": "f99cd8ea"
      },
      "outputs": [],
      "source": [
        "\n",
        "# Standardiser les données pour avoir une moyenne de 0 et un écart type de 1\n",
        "#Y = np.array((Y - Y.mean()) / Y.std())\n",
        "#X = X.apply(lambda rec: (rec - rec.mean()) / rec.std(), axis=0)\n",
        "\n"
      ]
    },
    {
      "cell_type": "code",
      "execution_count": null,
      "id": "effc30da",
      "metadata": {
        "id": "effc30da"
      },
      "outputs": [],
      "source": [
        "# Calculer les paramètres de régression en utilisant la méthode des moindres carrés\n",
        "X_transpose = X.transpose()\n",
        "X_transpose_X = np.dot(X_transpose, X)\n",
        "X_transpose_Y = np.dot(X_transpose, Y)\n",
        "theta = np.dot(np.linalg.inv(X_transpose_X), X_transpose_Y)\n",
        "b = Y.mean() - np.dot(X.mean(), theta)\n",
        "\n"
      ]
    },
    {
      "cell_type": "code",
      "execution_count": null,
      "id": "6c77a8dc",
      "metadata": {
        "colab": {
          "base_uri": "https://localhost:8080/"
        },
        "id": "6c77a8dc",
        "outputId": "d7de3175-37ac-4654-c197-636a20aaf9f9"
      },
      "outputs": [
        {
          "output_type": "stream",
          "name": "stdout",
          "text": [
            "Bias: 0.213430486949434 Weights: [2.26143797 0.55959924 0.23301541 0.43212339 3.02129067 2.31305448\n",
            " 2.74663729]\n"
          ]
        }
      ],
      "source": [
        "# Afficher les paramètres estimés\n",
        "print('Bias:', b, 'Weights:', theta)\n",
        "\n"
      ]
    },
    {
      "cell_type": "code",
      "execution_count": null,
      "id": "fbe80252",
      "metadata": {
        "colab": {
          "base_uri": "https://localhost:8080/",
          "height": 472
        },
        "id": "fbe80252",
        "outputId": "480257b8-7c49-47a1-f91d-aebfa931533e"
      },
      "outputs": [
        {
          "output_type": "display_data",
          "data": {
            "text/plain": [
              "<Figure size 640x480 with 1 Axes>"
            ],
            "image/png": "[encoded data removed]"
          },
          "metadata": {}
        }
      ],
      "source": [
        "# Prédire les valeurs de Y à l'aide des paramètres estimés\n",
        "def predict_Y(b,theta,X):\n",
        "    return b + np.dot(X,theta)\n",
        "Y_pred =predict_Y(b,theta,X_test)\n",
        "Y_pred\n",
        "\n",
        "# Afficher le graphique\n",
        "plt.scatter(y_test, Y_pred)\n",
        "plt.xlabel('Valeurs réelles')\n",
        "plt.ylabel('Valeurs prédites')\n",
        "plt.title('Régression linéaire multiple - Moindres carrés')\n",
        "plt.show()"
      ]
    },
    {
      "cell_type": "code",
      "execution_count": null,
      "id": "cc902165",
      "metadata": {
        "colab": {
          "base_uri": "https://localhost:8080/"
        },
        "id": "cc902165",
        "outputId": "54976787-5831-4779-c585-5bb872fdc419"
      },
      "outputs": [
        {
          "output_type": "stream",
          "name": "stdout",
          "text": [
            "score_moindre_carrés :  0.6756633250725155\n"
          ]
        }
      ],
      "source": [
        "\n",
        "print( 'score_moindre_carrés : ', r2_score(y_test,y_pred_test))"
      ]
    },
    {
      "cell_type": "code",
      "execution_count": null,
      "id": "7801e780",
      "metadata": {
        "colab": {
          "base_uri": "https://localhost:8080/"
        },
        "id": "7801e780",
        "outputId": "92a3b6bc-3c0f-4e31-afcd-f66e3e6d7d9b"
      },
      "outputs": [
        {
          "output_type": "stream",
          "name": "stdout",
          "text": [
            "2.287842942706477\n"
          ]
        }
      ],
      "source": [
        "r_square = (sum((y_pred_test - y_test) ** 2)) / (0.3 * 11164)\n",
        "print(r_square)"
      ]
    },
    {
      "cell_type": "code",
      "execution_count": null,
      "id": "71d45376",
      "metadata": {
        "id": "71d45376"
      },
      "outputs": [],
      "source": [
        "\n",
        "# 2_   gradient descente\n",
        "\n",
        "# Standardiser les données pour avoir une moyenne de 0 et un écart type de 1\n",
        "#Y=np.array((Y-Y.mean())/Y.std())\n",
        "#X=X.apply(lambda rec:(rec-rec.mean())/rec.std(),axis=0)\n",
        "#X.head()\n",
        "def initialize(dim):\n",
        "    b=random.random()\n",
        "    theta=np.random.rand(dim)\n",
        "    return b,theta\n",
        "\n",
        "b,theta=initialize(7)\n",
        "print('Bias: ',b, '\\nWeights:' ,theta)\n"
      ]
    },
    {
      "cell_type": "markdown",
      "source": [
        "# Nouvelle section"
      ],
      "metadata": {
        "id": "c6bFTOCeKSeg"
      },
      "id": "c6bFTOCeKSeg"
    },
    {
      "cell_type": "code",
      "execution_count": null,
      "id": "c54f4674",
      "metadata": {
        "id": "c54f4674"
      },
      "outputs": [],
      "source": [
        "def predict_Y(b,theta,X):\n",
        "    return b + np.dot(X,theta)\n",
        "Y_hat=predict_Y(b,theta,X_test)\n",
        "Y_hat\n",
        "import math"
      ]
    },
    {
      "cell_type": "code",
      "execution_count": null,
      "id": "c73844f7",
      "metadata": {
        "id": "c73844f7"
      },
      "outputs": [],
      "source": [
        "def get_cost(Y,Y_hat):\n",
        "    Y_resd=Y-Y_hat\n",
        "    return np.sum(np.dot(Y_resd.T,Y_resd))/len(Y-Y_resd)\n",
        "Y_hat=predict_Y(b,theta,X)\n",
        "get_cost(Y,Y_hat)\n",
        "def update_theta(x,y,y_hat,b_0,theta_o,learning_rate):\n",
        "    db=(np.sum(y_hat-y)*2)/len(y)\n",
        "    dw=(np.dot((y_hat-y),x)*2)/len(y)\n",
        "    b_1=b_0-learning_rate*db\n",
        "    theta_1=theta_o-learning_rate*dw\n",
        "    return b_1,theta_1\n",
        "#print(\"After initialization -Bias: \",b,\"theta: \",theta)\n",
        "Y_hat=predict_Y(b,theta,X)\n",
        "b,theta=update_theta(X,Y,Y_hat,b,theta,0.01)\n",
        "#print(\"After first update -Bias: \",b,\"theta: \",theta)\n",
        "get_cost(Y,Y_hat)\n",
        "def run_gradient_descent(X,Y,alpha,num_iterations):\n",
        "    b,theta=initialize(X.shape[1])\n",
        "    iter_num=0\n",
        "    gd_iterations_df=pd.DataFrame(columns=['iteration','cost'])\n",
        "    result_idx=0\n",
        "    for each_iter in range(num_iterations):\n",
        "        Y_hat=predict_Y(b,theta,X)\n",
        "        this_cost=get_cost(Y,Y_hat)\n",
        "        prev_b=b\n",
        "        prev_theta=theta\n",
        "        b,theta=update_theta(X,Y,Y_hat,prev_b,prev_theta,alpha)\n",
        "        if(iter_num%10==0):\n",
        "            gd_iterations_df.loc[result_idx]=[iter_num,this_cost]\n",
        "            result_idx=result_idx+1\n",
        "        iter_num +=1\n",
        "  #  print('Final Estimate of b and theta :',b,theta)\n",
        "    return gd_iterations_df,b,theta\n",
        "gd_iterations_df,b,theta=run_gradient_descent(X,Y,alpha=0.001,num_iterations=200)\n",
        "print('Bias: ',b, '\\nWeights:' ,theta)"
      ]
    },
    {
      "cell_type": "code",
      "execution_count": null,
      "id": "5ddf3993",
      "metadata": {
        "id": "5ddf3993"
      },
      "outputs": [],
      "source": [
        "%matplotlib inline\n",
        "plt.plot(gd_iterations_df['iteration'],gd_iterations_df['cost'])\n",
        "plt.xlabel('Number of iterations')\n",
        "plt.ylabel('Cost or MSE')"
      ]
    },
    {
      "cell_type": "code",
      "execution_count": null,
      "id": "3a11f8ae",
      "metadata": {
        "id": "3a11f8ae"
      },
      "outputs": [],
      "source": [
        "alpha_df_1,b,theta=run_gradient_descent(X,Y,alpha=0.01,num_iterations=2000)\n",
        "alpha_df_2,b,theta=run_gradient_descent(X,Y,alpha=0.001,num_iterations=2000)\n",
        "plt.plot(alpha_df_1['iteration'],alpha_df_1['cost'],label='alpha=0.01')\n",
        "plt.plot(alpha_df_2['iteration'],alpha_df_2['cost'],label='alpha=0.001')\n",
        "plt.legend()\n",
        "plt.ylabel('cost')\n",
        "plt.xlabel('Number of iterations')\n",
        "plt.title('Cost Vs. Iterations for different alpha values')"
      ]
    },
    {
      "cell_type": "code",
      "execution_count": null,
      "id": "c920b338",
      "metadata": {
        "id": "c920b338"
      },
      "outputs": [],
      "source": [
        "r_square = (sum((y_pred_test - y_test) ** 2)) / (0.3 * 11164)\n",
        "print(r_square)"
      ]
    },
    {
      "cell_type": "code",
      "execution_count": null,
      "id": "aa39bc29",
      "metadata": {
        "id": "aa39bc29"
      },
      "outputs": [],
      "source": [
        "#define cross-validation method to evaluate model\n",
        "cv = RepeatedKFold(n_splits=10, n_repeats=3, random_state=1)\n",
        "#define model\n",
        "model = RidgeCV(alphas=arange(0.001, 1, 0.01), cv=cv, scoring='neg_mean_absolute_error')\n",
        "#fit model\n",
        "model.fit(X,Y)\n",
        "#display lambda that produced the lowest test MSE\n",
        "print(model.alpha_)\n",
        "\n"
      ]
    },
    {
      "cell_type": "code",
      "execution_count": null,
      "id": "834c2f70",
      "metadata": {
        "id": "834c2f70"
      },
      "outputs": [],
      "source": []
    },
    {
      "cell_type": "code",
      "execution_count": null,
      "id": "74832347",
      "metadata": {
        "id": "74832347"
      },
      "outputs": [],
      "source": [
        "y_pred_ridge=model.predict(X_test)\n",
        "print('y_pred_test : ', y_pred_ridge)"
      ]
    },
    {
      "cell_type": "code",
      "execution_count": null,
      "id": "fb9797a8",
      "metadata": {
        "id": "fb9797a8"
      },
      "outputs": [],
      "source": [
        "# Afficher le graphique\n",
        "plt.scatter(y_test, y_pred_ridge)\n",
        "plt.xlabel('Valeurs réelles')\n",
        "plt.ylabel('Valeurs prédites')\n",
        "plt.title('Régression linéaire - Ridge')\n",
        "plt.show()"
      ]
    },
    {
      "cell_type": "code",
      "execution_count": null,
      "id": "574fe34f",
      "metadata": {
        "id": "574fe34f"
      },
      "outputs": [],
      "source": [
        "r_square = (sum((y_pred_ridge - y_test) ** 2)) / (0.3 * 11164)\n",
        "print(r_square)"
      ]
    },
    {
      "cell_type": "code",
      "execution_count": null,
      "id": "30bb143a",
      "metadata": {
        "scrolled": true,
        "id": "30bb143a"
      },
      "outputs": [],
      "source": []
    },
    {
      "cell_type": "code",
      "execution_count": null,
      "id": "cbe73614",
      "metadata": {
        "id": "cbe73614"
      },
      "outputs": [],
      "source": []
    },
    {
      "cell_type": "code",
      "execution_count": null,
      "id": "e5305230",
      "metadata": {
        "id": "e5305230"
      },
      "outputs": [],
      "source": []
    },
    {
      "cell_type": "code",
      "execution_count": null,
      "id": "ccd46e27",
      "metadata": {
        "id": "ccd46e27"
      },
      "outputs": [],
      "source": []
    }
  ],
  "metadata": {
    "kernelspec": {
      "display_name": "Python 3 (ipykernel)",
      "language": "python",
      "name": "python3"
    },
    "language_info": {
      "codemirror_mode": {
        "name": "ipython",
        "version": 3
      },
      "file_extension": ".py",
      "mimetype": "text/x-python",
      "name": "python",
      "nbconvert_exporter": "python",
      "pygments_lexer": "ipython3",
      "version": "3.10.9"
    },
    "colab": {
      "provenance": []
    }
  },
  "nbformat": 4,
  "nbformat_minor": 5
}